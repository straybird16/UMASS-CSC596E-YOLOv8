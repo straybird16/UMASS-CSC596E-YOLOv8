{
 "cells": [
  {
   "cell_type": "code",
   "execution_count": null,
   "metadata": {},
   "outputs": [],
   "source": [
    "\"\"\" print(extract_info_from_xml('temp_data/annotations/road4.xml'))\n",
    "path_annotations = 'temp_data/annotations'\n",
    "# Get the annotations\n",
    "annotations = [os.path.join(path_annotations, x) for x in os.listdir(path_annotations) if x[-3:] == \"xml\"]\n",
    "annotations.sort()\n",
    "\n",
    "# Convert and save the annotations\n",
    "for ann in tqdm(annotations):\n",
    "    info_dict = extract_info_from_xml(ann)\n",
    "    convert_to_yolov5(info_dict)\n",
    "annotations = [os.path.join(path_annotations, x) for x in os.listdir(path_annotations) if x[-3:] == \"txt\"] \"\"\"\n",
    "\n",
    "\"\"\" # Get any random annotation file \n",
    "annotation_file = random.choice(annotations)\n",
    "with open(annotation_file, \"r\") as file:\n",
    "    annotation_list = file.read().split(\"\\n\")[:-1]\n",
    "    annotation_list = [x.split(\" \") for x in annotation_list]\n",
    "    annotation_list = [[float(y) for y in x ] for x in annotation_list]\n",
    "\n",
    "#Get the corresponding image file\n",
    "image_file = annotation_file.replace(\"annotations\", \"images\").replace(\"txt\", \"png\")\n",
    "assert os.path.exists(image_file)\n",
    "\n",
    "#Load the image\n",
    "image = Image.open(image_file)\n",
    "\n",
    "#Plot the Bounding Box\n",
    "plot_bounding_box(image, annotation_list) \"\"\"\n",
    "\n",
    "\n",
    "# partition_dataset(path_images='temp_data/images', path_annotations='temp_data/annotations')\n"
   ]
  }
 ],
 "metadata": {
  "language_info": {
   "name": "python"
  },
  "orig_nbformat": 4
 },
 "nbformat": 4,
 "nbformat_minor": 2
}
